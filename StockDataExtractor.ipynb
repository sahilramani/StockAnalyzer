{
 "cells": [
  {
   "cell_type": "code",
   "execution_count": 1,
   "metadata": {},
   "outputs": [],
   "source": [
    "from twelvedata import TDClient\n",
    "from twelvedata.exceptions import (TwelveDataError, BadRequestError)\n",
    "import time\n",
    "import sys\n",
    "import calendar\n",
    "\n",
    "ticker = 'TSLA'\n",
    "interval = '1min'\n",
    "output_size = 5000\n",
    "year = 2020\n",
    "filename = f'{ticker}_{year}_{interval}.csv'"
   ]
  },
  {
   "cell_type": "code",
   "execution_count": 2,
   "metadata": {},
   "outputs": [],
   "source": [
    "# Load Twelve Data API key\n",
    "api_key = None\n",
    "\n",
    "with open('twelve_data_api_key', 'r') as file:\n",
    "    api_key = file.read()\n",
    "    \n",
    "if api_key is None:\n",
    "    sys.exit(\"Error, no API key\")"
   ]
  },
  {
   "cell_type": "raw",
   "metadata": {},
   "source": [
    "td = TDClient(apikey=api_key)\n",
    "ts = td.time_series(symbol=ticker, interval=interval)\n",
    "print(ts)"
   ]
  },
  {
   "cell_type": "raw",
   "metadata": {},
   "source": [
    "for i in range(9):\n",
    "    json = query_td_api(ts, \"as_json\");\n",
    "    print(json)"
   ]
  },
  {
   "cell_type": "code",
   "execution_count": 3,
   "metadata": {},
   "outputs": [],
   "source": [
    "def query_td_api(instance, api_name, **kwargs):\n",
    "    success = False\n",
    "    running = True\n",
    "    result = instance\n",
    "    fail_count = 0\n",
    "    while running:\n",
    "        try:\n",
    "            api = getattr(instance, api_name)\n",
    "            result = api(**kwargs)\n",
    "            running = False\n",
    "            success = True\n",
    "            \n",
    "        except BadRequestError as e:\n",
    "            # In case of a bad request, we do not retry\n",
    "            print(e, \".. \", end='')\n",
    "            running = False\n",
    "            \n",
    "        except TwelveDataError as e:\n",
    "            \n",
    "            if fail_count == 0:\n",
    "                print(\"still working ..\", end='')\n",
    "\n",
    "                # Only wait until the next minute begins (+1 second for good measure)\n",
    "                time.sleep(60 - time.localtime().tm_sec + 1)\n",
    "                fail_count = fail_count + 1\n",
    "            \n",
    "            else:\n",
    "                # We've failed twice, we should not retry\n",
    "                running = False\n",
    "                print(\"API {} failed..\".format(api_name), end='')\n",
    "                \n",
    "    return (result, success)"
   ]
  },
  {
   "cell_type": "code",
   "execution_count": 4,
   "metadata": {},
   "outputs": [
    {
     "name": "stdout",
     "output_type": "stream",
     "text": [
      "Fetching data for date range: ('2020-12-01', '2020-12-31').. done\n",
      "Fetching data for date range: ('2020-11-01', '2020-11-30').. done\n",
      "Fetching data for date range: ('2020-10-01', '2020-10-31').. still working ..done\n",
      "Fetching data for date range: ('2020-9-01', '2020-9-30').. done\n",
      "Fetching data for date range: ('2020-8-01', '2020-8-31').. still working ..done\n",
      "Fetching data for date range: ('2020-7-01', '2020-7-31').. done\n",
      "Fetching data for date range: ('2020-6-01', '2020-6-30').. still working ..done\n",
      "Fetching data for date range: ('2020-5-01', '2020-5-31').. done\n",
      "Fetching data for date range: ('2020-4-01', '2020-4-30').. still working ..done\n",
      "Fetching data for date range: ('2020-3-01', '2020-3-31').. done\n",
      "Fetching data for date range: ('2020-2-01', '2020-2-29').. No data is available on the specified dates. Try setting different start/end dates. .. done\n",
      "Fetching data for date range: ('2020-1-01', '2020-1-31').. No data is available on the specified dates. Try setting different start/end dates. .. done\n"
     ]
    }
   ],
   "source": [
    "# Let's fill this in with a month-by-month dateranges to feed to the API\n",
    "# This is broken up just so we don't fill up the 5000 outputsize maximum APIlimit.\n",
    "date_ranges = []\n",
    "\n",
    "# 12 entries starting from 1 for the month\n",
    "# calendar.monthrange gives us (start-date, end-date) for the month in question\n",
    "for month in range(1, 13):\n",
    "    daterange = calendar.monthrange(year, month)\n",
    "    date_ranges.append((f'{year}-{month}-01', f'{year}-{month}-{daterange[1]}'))\n",
    "\n",
    "# Because the output is ordered descending in date, let's reverse this list so we get december first.\n",
    "date_ranges.reverse()\n",
    "\n",
    "td = TDClient(apikey=api_key)\n",
    "csv_data = []\n",
    "csv_headers = None\n",
    "iteration_count = 0\n",
    "\n",
    "for date_range in date_ranges:\n",
    "    print(f'Fetching data for date range: {date_range}.. ', end='')\n",
    "    ts = td.time_series(symbol=ticker,\n",
    "                        interval=interval,\n",
    "                        start_date=date_range[0],\n",
    "                        end_date=date_range[1],\n",
    "                        outputsize=output_size)\n",
    "\n",
    "    # Technical Indicators\n",
    "#     api_calls = ['with_adx', 'with_bbands', 'with_ema', 'with_ichimoku', 'as_csv']\n",
    "    api_calls = ['with_adx', 'with_ema', 'as_csv']\n",
    "    status = True\n",
    "    for api in api_calls:\n",
    "        (ts, status) = query_td_api(ts, api)\n",
    "        if status is False:\n",
    "            break\n",
    "    if status is True:\n",
    "        if csv_headers is None:\n",
    "            csv_headers = ts[0]\n",
    "\n",
    "        csv_data.extend(ts[1:])\n",
    "\n",
    "    print('done')\n",
    "\n",
    "csv_data.insert(0, csv_headers)"
   ]
  },
  {
   "cell_type": "code",
   "execution_count": 5,
   "metadata": {},
   "outputs": [],
   "source": [
    "csv_data.insert(0, csv_headers)\n",
    "# Write data to CSV file.\n",
    "import csv\n",
    "with open(filename, 'w') as file:\n",
    "    writer = csv.writer(file)\n",
    "    writer.writerows(csv_data)\n",
    "file.close()"
   ]
  },
  {
   "cell_type": "code",
   "execution_count": null,
   "metadata": {},
   "outputs": [],
   "source": []
  }
 ],
 "metadata": {
  "kernelspec": {
   "display_name": "Python 3",
   "language": "python",
   "name": "python3"
  },
  "language_info": {
   "codemirror_mode": {
    "name": "ipython",
    "version": 3
   },
   "file_extension": ".py",
   "mimetype": "text/x-python",
   "name": "python",
   "nbconvert_exporter": "python",
   "pygments_lexer": "ipython3",
   "version": "3.6.12"
  },
  "toc-autonumbering": false,
  "toc-showcode": true,
  "toc-showtags": true
 },
 "nbformat": 4,
 "nbformat_minor": 4
}
