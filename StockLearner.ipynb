{
 "cells": [
  {
   "cell_type": "code",
   "execution_count": null,
   "id": "logical-vaccine",
   "metadata": {},
   "outputs": [],
   "source": [
    "import torch\n",
    "import time\n",
    "device = 'cuda' if torch.cuda.is_available() else 'cpu'"
   ]
  },
  {
   "cell_type": "code",
   "execution_count": null,
   "id": "blond-vampire",
   "metadata": {},
   "outputs": [],
   "source": [
    "from stock_analyzer import (csv_loader, data_ext)\n",
    "from stock_analyzer.models import StockLSTM\n",
    "\n",
    "raw_data = csv_loader.load_symbol('./data/raw/', 'TSLA', '1min', '2020')"
   ]
  },
  {
   "cell_type": "code",
   "execution_count": null,
   "id": "published-cooking",
   "metadata": {},
   "outputs": [],
   "source": [
    "from torch.utils.data import (TensorDataset, DataLoader)\n",
    "def create_dataloader(data, lookback, bs):\n",
    "    x = [data[i:i+lookback, :] for i in range(len(data)-lookback)]\n",
    "    y = [[data[i, 0]] for i in range(lookback, len(data))]\n",
    "    ds = TensorDataset(torch.as_tensor(x).float().to(device), torch.as_tensor(y).float().to(device))\n",
    "    loader = DataLoader(ds, shuffle=True, batch_size=bs)\n",
    "    return loader"
   ]
  },
  {
   "cell_type": "code",
   "execution_count": null,
   "id": "revised-aside",
   "metadata": {},
   "outputs": [],
   "source": [
    "from sklearn.preprocessing import MinMaxScaler\n",
    "train_scaler = MinMaxScaler()\n",
    "val_scaler = MinMaxScaler()\n",
    "test_scaler = MinMaxScaler()\n",
    "\n",
    "seq_length = 20\n",
    "batch_size = 512\n",
    "\n",
    "train_count, val_count, test_count = data_ext.split_counts(raw_data.shape[0], seq_length, train_per=0.7, val_per=0.2)\n",
    "\n",
    "# 'close' is required and must be on index 0, everything else is optional\n",
    "features = ['close', 'volume']\n",
    "train_data = train_scaler.fit_transform(raw_data[features].values[:train_count+1])\n",
    "val_data = val_scaler.fit_transform(raw_data[features].values[train_count:train_count+val_count+1])\n",
    "test_data = test_scaler.fit_transform(raw_data[features].values[train_count+val_count:train_count+val_count+test_count+1])\n",
    "\n",
    "train_loader = create_dataloader(train_data, seq_length, batch_size)\n",
    "val_loader = create_dataloader(val_data, seq_length, batch_size)\n",
    "test_loader = create_dataloader(test_data, seq_length, batch_size)"
   ]
  },
  {
   "cell_type": "code",
   "execution_count": null,
   "id": "surprising-tsunami",
   "metadata": {},
   "outputs": [],
   "source": [
    "import os\n",
    "import numpy as np\n",
    "\n",
    "ckpt_dir = 'stock'\n",
    "min_valid_loss = float('inf')\n",
    "if not os.path.exists(ckpt_dir):\n",
    "    os.makedirs(ckpt_dir)\n",
    "    \n",
    "num_epochs = 5000\n",
    "learning_rate = 0.005\n",
    "print_every = 100\n",
    "\n",
    "input_size = len(features) #number of features\n",
    "hidden_size = 2 #number of features in hidden state\n",
    "num_layers = 1 #number of stacked lstm layers\n",
    "\n",
    "num_classes = 1 #number of output classes \n",
    "lstm1 = StockLSTM.StockLSTM(num_classes, input_size, hidden_size, num_layers, seq_length, device) #our lstm class \n",
    "criterion = torch.nn.MSELoss()    # mean-squared error for regression\n",
    "optimizer = torch.optim.Adam(lstm1.parameters(), lr=learning_rate)\n",
    "lstm1.to(device)\n",
    "lstm1.train()\n",
    "for epoch in range(1, num_epochs+1):\n",
    "    train_losses = []\n",
    "    val_losses = []\n",
    "    for x_tensor, y_tensor in train_loader:\n",
    "        out = lstm1.forward(x_tensor)\n",
    "        optimizer.zero_grad()\n",
    "        loss = criterion(out, y_tensor)\n",
    "        loss.backward()\n",
    "        optimizer.step()\n",
    "        train_losses.append(loss.item())\n",
    "\n",
    "    lstm1.eval()\n",
    "    for x_tensor, y_tensor in val_loader:\n",
    "        prediction = lstm1.forward(x_tensor)\n",
    "        val_losses.append(criterion(prediction, y_tensor).item())\n",
    "        \n",
    "    # Checkpointing logic\n",
    "    if np.mean(val_losses) < min_valid_loss:\n",
    "        min_valid_loss = np.mean(val_losses)\n",
    "        torch.save(lstm1.state_dict(), ckpt_dir + '/stocklearner_e'+str(int(epoch/1000))+'xxx_lr'+str(learning_rate)+'.pth')\n",
    "        print(\"Saving epoch: %d, Training Loss : %1.20f,  Validation Loss: %1.20f ... saving checkpoint %s\" % (epoch, np.mean(train_losses), np.mean(val_losses), str(int(epoch/1000))+'xxx'))\n",
    "\n",
    "    elif epoch % print_every == 0:\n",
    "        print(\"Saving epoch: %d, Training Loss : %1.20f,  Validation Loss: %1.20f\" % (epoch, np.mean(train_losses), np.mean(val_losses)))\n",
    "        \n",
    "    lstm1.train()\n"
   ]
  },
  {
   "cell_type": "code",
   "execution_count": null,
   "id": "contained-aberdeen",
   "metadata": {},
   "outputs": [],
   "source": []
  }
 ],
 "metadata": {
  "kernelspec": {
   "display_name": "Python 3",
   "language": "python",
   "name": "python3"
  },
  "language_info": {
   "codemirror_mode": {
    "name": "ipython",
    "version": 3
   },
   "file_extension": ".py",
   "mimetype": "text/x-python",
   "name": "python",
   "nbconvert_exporter": "python",
   "pygments_lexer": "ipython3",
   "version": "3.6.12"
  }
 },
 "nbformat": 4,
 "nbformat_minor": 5
}
