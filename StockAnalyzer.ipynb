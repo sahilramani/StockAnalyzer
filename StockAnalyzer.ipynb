{
 "cells": [
  {
   "cell_type": "code",
   "execution_count": 44,
   "metadata": {},
   "outputs": [],
   "source": [
    "from twelvedata import TDClient\n",
    "from twelvedata.exceptions import BadRequestError\n",
    "\n",
    "\n",
    "ticker = 'TSLA'\n",
    "interval = '1min'\n",
    "output_size = 5000\n",
    "year = 2020\n",
    "filename = f'{ticker}_{year}_{interval}.csv'\n",
    "\n",
    "# This is an API limit for TwelveData, 8 API calls per minute.\n",
    "# For better rate limiting, i'm lowering the limit on our end\n",
    "# just so we're not even close to it.\n",
    "# Each iteration is technically 3 API calls.\n",
    "iterations_per_minute=2\n"
   ]
  },
  {
   "cell_type": "code",
   "execution_count": 47,
   "metadata": {},
   "outputs": [],
   "source": [
    "import sys\n",
    "\n",
    "# Load Twelve Data API key\n",
    "api_key = None\n",
    "\n",
    "with open('twelve_data_api_key', 'r') as file:\n",
    "    api_key = file.read()\n",
    "    \n",
    "if api_key is None:\n",
    "    sys.exit(\"Error, no API key\")"
   ]
  },
  {
   "cell_type": "code",
   "execution_count": 47,
   "metadata": {},
   "outputs": [
    {
     "name": "stdout",
     "output_type": "stream",
     "text": [
      "Fetching data for date range: ('2020-12-01', '2020-12-31').. done\n",
      "Fetching data for date range: ('2020-11-01', '2020-11-30').. done\n",
      "Fetching data for date range: ('2020-10-01', '2020-10-31').. done\n",
      "Fetching data for date range: ('2020-9-01', '2020-9-30').. done\n",
      "Fetching data for date range: ('2020-8-01', '2020-8-31').. done\n",
      "Fetching data for date range: ('2020-7-01', '2020-7-31').. done\n",
      "Fetching data for date range: ('2020-6-01', '2020-6-30').. done\n",
      "Fetching data for date range: ('2020-5-01', '2020-5-31').. done\n",
      "Fetching data for date range: ('2020-4-01', '2020-4-30').. done\n",
      "Fetching data for date range: ('2020-3-01', '2020-3-31').. done\n",
      "Fetching data for date range: ('2020-2-01', '2020-2-29').. No data is available on the specified dates. Try setting different start/end dates.\n",
      "done\n",
      "Fetching data for date range: ('2020-1-01', '2020-1-31').. No data is available on the specified dates. Try setting different start/end dates.\n",
      "done\n"
     ]
    }
   ],
   "source": [
    "import calendar\n",
    "import time\n",
    "\n",
    "# Let's fill this in with a month-by-month dateranges to feed to the API\n",
    "# This is broken up just so we don't fill up the 5000 outputsize maximum APIlimit.\n",
    "date_ranges = []\n",
    "\n",
    "# 12 entries starting from 1 for the month\n",
    "# calendar.monthrange gives us (start-date, end-date) for the month in question\n",
    "for month in range(1, 13):\n",
    "    daterange = calendar.monthrange(year, month)\n",
    "    date_ranges.append((f'{year}-{month}-01', f'{year}-{month}-{daterange[1]}'))\n",
    "\n",
    "# Because the output is ordered descending in date, let's reverse this list so we get december first.\n",
    "date_ranges.reverse()\n",
    "\n",
    "td = TDClient(apikey=api_key)\n",
    "csv_data = []\n",
    "csv_headers = None\n",
    "df_list = []\n",
    "iteration_count = 0\n",
    "\n",
    "for date_range in date_ranges:\n",
    "    print(f'Fetching data for date range: {date_range}.. ', end='')\n",
    "\n",
    "    try:\n",
    "        ts = td.time_series(symbol=ticker,\n",
    "                            interval=interval,\n",
    "                            start_date=date_range[0],\n",
    "                            end_date=date_range[1],\n",
    "                            outputsize=output_size)\n",
    "\n",
    "        ts_csv = ts.as_csv()\n",
    "        if csv_headers == None:\n",
    "            csv_headers = ts_csv[0]\n",
    "\n",
    "        csv_data.extend(ts_csv[1:])\n",
    "        df_list.append(ts.as_pandas())\n",
    "\n",
    "    except BadRequestError as e:\n",
    "        print(e)\n",
    "\n",
    "    finally:\n",
    "        print('done')\n",
    "        iteration_count += 1\n",
    "        if (iteration_count % iterations_per_minute) == 0:\n",
    "            time.sleep(60)\n",
    "\n",
    "csv_data.insert(0, csv_headers)"
   ]
  },
  {
   "cell_type": "code",
   "execution_count": 48,
   "metadata": {},
   "outputs": [],
   "source": [
    "# Write data to CSV file.\n",
    "import csv\n",
    "with open(filename, 'w') as file:\n",
    "    writer = csv.writer(file)\n",
    "    writer.writerows(csv_data)\n",
    "file.close()"
   ]
  }
 ],
 "metadata": {
  "kernelspec": {
   "display_name": "Python 3",
   "language": "python",
   "name": "python3"
  },
  "language_info": {
   "codemirror_mode": {
    "name": "ipython",
    "version": 3
   },
   "file_extension": ".py",
   "mimetype": "text/x-python",
   "name": "python",
   "nbconvert_exporter": "python",
   "pygments_lexer": "ipython3",
   "version": "3.6.12"
  },
  "toc-autonumbering": false,
  "toc-showcode": true,
  "toc-showtags": true
 },
 "nbformat": 4,
 "nbformat_minor": 4
}
